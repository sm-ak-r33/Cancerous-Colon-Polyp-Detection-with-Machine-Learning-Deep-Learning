{
 "cells": [
  {
   "cell_type": "markdown",
   "metadata": {},
   "source": [
    "# Preprocessing"
   ]
  },
  {
   "cell_type": "code",
   "execution_count": 1,
   "metadata": {},
   "outputs": [],
   "source": [
    "#Importing the necessary packages:\n",
    "import pandas as pd\n",
    "import re"
   ]
  },
  {
   "cell_type": "code",
   "execution_count": 3,
   "metadata": {},
   "outputs": [],
   "source": [
    "df = pd.read_csv(\"malicious_phish.csv\")\n"
   ]
  },
  {
   "cell_type": "code",
   "execution_count": 3,
   "metadata": {},
   "outputs": [
    {
     "data": {
      "text/html": [
       "<div>\n",
       "<style scoped>\n",
       "    .dataframe tbody tr th:only-of-type {\n",
       "        vertical-align: middle;\n",
       "    }\n",
       "\n",
       "    .dataframe tbody tr th {\n",
       "        vertical-align: top;\n",
       "    }\n",
       "\n",
       "    .dataframe thead th {\n",
       "        text-align: right;\n",
       "    }\n",
       "</style>\n",
       "<table border=\"1\" class=\"dataframe\">\n",
       "  <thead>\n",
       "    <tr style=\"text-align: right;\">\n",
       "      <th></th>\n",
       "      <th>url</th>\n",
       "      <th>type</th>\n",
       "    </tr>\n",
       "  </thead>\n",
       "  <tbody>\n",
       "    <tr>\n",
       "      <th>0</th>\n",
       "      <td>br-icloud.com.br</td>\n",
       "      <td>phishing</td>\n",
       "    </tr>\n",
       "    <tr>\n",
       "      <th>1</th>\n",
       "      <td>mp3raid.com/music/krizz_kaliko.html</td>\n",
       "      <td>benign</td>\n",
       "    </tr>\n",
       "    <tr>\n",
       "      <th>2</th>\n",
       "      <td>bopsecrets.org/rexroth/cr/1.htm</td>\n",
       "      <td>benign</td>\n",
       "    </tr>\n",
       "    <tr>\n",
       "      <th>3</th>\n",
       "      <td>http://www.garage-pirenne.be/index.php?option=...</td>\n",
       "      <td>defacement</td>\n",
       "    </tr>\n",
       "    <tr>\n",
       "      <th>4</th>\n",
       "      <td>http://adventure-nicaragua.net/index.php?optio...</td>\n",
       "      <td>defacement</td>\n",
       "    </tr>\n",
       "  </tbody>\n",
       "</table>\n",
       "</div>"
      ],
      "text/plain": [
       "                                                 url        type\n",
       "0                                   br-icloud.com.br    phishing\n",
       "1                mp3raid.com/music/krizz_kaliko.html      benign\n",
       "2                    bopsecrets.org/rexroth/cr/1.htm      benign\n",
       "3  http://www.garage-pirenne.be/index.php?option=...  defacement\n",
       "4  http://adventure-nicaragua.net/index.php?optio...  defacement"
      ]
     },
     "execution_count": 3,
     "metadata": {},
     "output_type": "execute_result"
    }
   ],
   "source": [
    "df.head()"
   ]
  },
  {
   "cell_type": "code",
   "execution_count": 4,
   "metadata": {},
   "outputs": [],
   "source": [
    "df = df[(df[\"type\"] == \"benign\") | (df[\"type\"] == \"phishing\")]"
   ]
  },
  {
   "cell_type": "code",
   "execution_count": 36,
   "metadata": {},
   "outputs": [
    {
     "name": "stdout",
     "output_type": "stream",
     "text": [
      "Number of benign URLs: 428103\n",
      "Number of phishing URLs: 94111\n"
     ]
    }
   ],
   "source": [
    "print(f'Number of benign URLs: {len(df[df[\"type\"] == \"benign\"])}')\n",
    "print(f'Number of phishing URLs: {len(df[df[\"type\"] == \"phishing\"])}')\n"
   ]
  },
  {
   "cell_type": "code",
   "execution_count": 5,
   "metadata": {},
   "outputs": [
    {
     "name": "stdout",
     "output_type": "stream",
     "text": [
      "{'UrlLength': 66, 'NumDots': 2, 'NumDash': 1, 'NumAtSymbol': 0, 'NumTildeSymbol': 0, 'NumUnderscore': 0, 'NumPercent': 0, 'NumAmpersand': 1, 'NumHash': 0, 'NumNumericChars': 4, 'NoHttps': 1, 'PathLevel': 2, 'SubdomainLevels': 2, 'NumDashInHostname': 1, 'NumQueryComponents': 2}\n",
      "{'UrlLength': 36, 'NumDots': 1, 'NumDash': 0, 'NumAtSymbol': 0, 'NumTildeSymbol': 0, 'NumUnderscore': 0, 'NumPercent': 0, 'NumAmpersand': 0, 'NumHash': 0, 'NumNumericChars': 0, 'NoHttps': 0, 'PathLevel': 3, 'SubdomainLevels': 1, 'NumDashInHostname': 0, 'NumQueryComponents': 1}\n",
      "{'UrlLength': 20, 'NumDots': 1, 'NumDash': 0, 'NumAtSymbol': 0, 'NumTildeSymbol': 0, 'NumUnderscore': 0, 'NumPercent': 0, 'NumAmpersand': 0, 'NumHash': 0, 'NumNumericChars': 0, 'NoHttps': 0, 'PathLevel': 1, 'SubdomainLevels': 1, 'NumDashInHostname': 0, 'NumQueryComponents': 1}\n"
     ]
    }
   ],
   "source": [
    "def url_split(url_name):\n",
    "    \n",
    "    UrlLength = len(url_name)\n",
    "    NumDots = url_name.count(\".\")\n",
    "    NumDash = url_name.count(\"-\")    \n",
    "    NumAtSymbol = url_name.count(\"@\")\n",
    "    NumTildeSymbol = url_name.count(\"~\")\n",
    "    NumUnderscore = url_name.count(\"_\")\n",
    "    NumPercent = url_name.count(\"%\")    \n",
    "    NumAmpersand = url_name.count(\"&\")\n",
    "    NumHash = url_name.count(\"#\")\n",
    "    NumNumericChars = len(re.findall(r'\\d', url_name))\n",
    "\n",
    "\n",
    "    if url_name.startswith(\"http://\"):\n",
    "        NoHttps = 1\n",
    "        url_name = url_name[7:]\n",
    "    elif url_name.startswith(\"https://\"):\n",
    "        NoHttps = 0\n",
    "        url_name = url_name[8:]\n",
    "    else:\n",
    "        NoHttps = 0\n",
    "\n",
    "    url_parts = url_name.split(\"/\")\n",
    "    \n",
    "    subdomain_count = url_parts[0].count(\".\")\n",
    "    SubdomainLevels = subdomain_count\n",
    "    \n",
    "    path_component = \"/\".join(url_parts[1:])\n",
    "    path_segments = path_component.split(\"/\")\n",
    "    PathLevel = len(path_segments)\n",
    "    \n",
    "    NumDashInHostname = url_parts[0].count(\"-\")\n",
    "\n",
    "    query_part = url_parts[-1]\n",
    "    query_segments = query_part.split(\"?\")\n",
    "    query_params = query_segments[1] if len(query_segments) > 1 else \"\"\n",
    "    NumQueryComponents = len(query_params.split(\"&\"))\n",
    "\n",
    "    return {\n",
    "        \"UrlLength\": UrlLength,\n",
    "        \"NumDots\": NumDots,\n",
    "        \"NumDash\": NumDash,\n",
    "        \"NumAtSymbol\": NumAtSymbol,\n",
    "        \"NumTildeSymbol\": NumTildeSymbol,\n",
    "        \"NumUnderscore\": NumUnderscore,\n",
    "        \"NumPercent\": NumPercent,\n",
    "        \"NumAmpersand\": NumAmpersand,\n",
    "        \"NumHash\": NumHash,\n",
    "        \"NumNumericChars\": NumNumericChars,\n",
    "        \"NoHttps\": NoHttps,\n",
    "        \"PathLevel\": PathLevel,\n",
    "        \"SubdomainLevels\": SubdomainLevels,\n",
    "        \"NumDashInHostname\": NumDashInHostname,\n",
    "        \"NumQueryComponents\": NumQueryComponents\n",
    "    }\n",
    "\n",
    "# Example usage\n",
    "url_http = \"http://br-icloud.com.br/subdomain/page?param1=value1&param2=value2\"\n",
    "url_https = \"https://example.com/path/to/resource\"\n",
    "url_no_http_https = \"example.com/resource\"\n",
    "result_http = url_split(url_http)\n",
    "result_https = url_split(url_https)\n",
    "result_no_http_https = url_split(url_no_http_https)\n",
    "print(result_http)\n",
    "print(result_https)\n",
    "print(result_no_http_https)\n",
    "\n",
    "\n"
   ]
  },
  {
   "cell_type": "code",
   "execution_count": 6,
   "metadata": {},
   "outputs": [],
   "source": [
    "df[[\"UrlLength\", \"NumDots\", \"NumDash\", \"NumAtSymbol\", \"NumTildeSymbol\", \"NumUnderscore\", \"NumPercent\",\n",
    "    \"NumAmpersand\", \"NumHash\", \"NumNumericChars\", \"NoHttps\", \"PathLevel\", \"SubdomainLevels\",\n",
    "    \"NumDashInHostname\", \"NumQueryComponents\"]] = df[\"url\"].apply(url_split).apply(pd.Series)"
   ]
  },
  {
   "cell_type": "code",
   "execution_count": 7,
   "metadata": {},
   "outputs": [
    {
     "data": {
      "text/html": [
       "<div>\n",
       "<style scoped>\n",
       "    .dataframe tbody tr th:only-of-type {\n",
       "        vertical-align: middle;\n",
       "    }\n",
       "\n",
       "    .dataframe tbody tr th {\n",
       "        vertical-align: top;\n",
       "    }\n",
       "\n",
       "    .dataframe thead th {\n",
       "        text-align: right;\n",
       "    }\n",
       "</style>\n",
       "<table border=\"1\" class=\"dataframe\">\n",
       "  <thead>\n",
       "    <tr style=\"text-align: right;\">\n",
       "      <th></th>\n",
       "      <th>url</th>\n",
       "      <th>type</th>\n",
       "      <th>UrlLength</th>\n",
       "      <th>NumDots</th>\n",
       "      <th>NumDash</th>\n",
       "      <th>NumAtSymbol</th>\n",
       "      <th>NumTildeSymbol</th>\n",
       "      <th>NumUnderscore</th>\n",
       "      <th>NumPercent</th>\n",
       "      <th>NumAmpersand</th>\n",
       "      <th>NumHash</th>\n",
       "      <th>NumNumericChars</th>\n",
       "      <th>NoHttps</th>\n",
       "      <th>PathLevel</th>\n",
       "      <th>SubdomainLevels</th>\n",
       "      <th>NumDashInHostname</th>\n",
       "      <th>NumQueryComponents</th>\n",
       "    </tr>\n",
       "  </thead>\n",
       "  <tbody>\n",
       "    <tr>\n",
       "      <th>0</th>\n",
       "      <td>br-icloud.com.br</td>\n",
       "      <td>phishing</td>\n",
       "      <td>16</td>\n",
       "      <td>2</td>\n",
       "      <td>1</td>\n",
       "      <td>0</td>\n",
       "      <td>0</td>\n",
       "      <td>0</td>\n",
       "      <td>0</td>\n",
       "      <td>0</td>\n",
       "      <td>0</td>\n",
       "      <td>0</td>\n",
       "      <td>0</td>\n",
       "      <td>1</td>\n",
       "      <td>2</td>\n",
       "      <td>1</td>\n",
       "      <td>1</td>\n",
       "    </tr>\n",
       "    <tr>\n",
       "      <th>1</th>\n",
       "      <td>mp3raid.com/music/krizz_kaliko.html</td>\n",
       "      <td>benign</td>\n",
       "      <td>35</td>\n",
       "      <td>2</td>\n",
       "      <td>0</td>\n",
       "      <td>0</td>\n",
       "      <td>0</td>\n",
       "      <td>1</td>\n",
       "      <td>0</td>\n",
       "      <td>0</td>\n",
       "      <td>0</td>\n",
       "      <td>1</td>\n",
       "      <td>0</td>\n",
       "      <td>2</td>\n",
       "      <td>1</td>\n",
       "      <td>0</td>\n",
       "      <td>1</td>\n",
       "    </tr>\n",
       "    <tr>\n",
       "      <th>2</th>\n",
       "      <td>bopsecrets.org/rexroth/cr/1.htm</td>\n",
       "      <td>benign</td>\n",
       "      <td>31</td>\n",
       "      <td>2</td>\n",
       "      <td>0</td>\n",
       "      <td>0</td>\n",
       "      <td>0</td>\n",
       "      <td>0</td>\n",
       "      <td>0</td>\n",
       "      <td>0</td>\n",
       "      <td>0</td>\n",
       "      <td>1</td>\n",
       "      <td>0</td>\n",
       "      <td>3</td>\n",
       "      <td>1</td>\n",
       "      <td>0</td>\n",
       "      <td>1</td>\n",
       "    </tr>\n",
       "    <tr>\n",
       "      <th>5</th>\n",
       "      <td>http://buzzfil.net/m/show-art/ils-etaient-loin...</td>\n",
       "      <td>benign</td>\n",
       "      <td>118</td>\n",
       "      <td>2</td>\n",
       "      <td>16</td>\n",
       "      <td>0</td>\n",
       "      <td>0</td>\n",
       "      <td>0</td>\n",
       "      <td>0</td>\n",
       "      <td>0</td>\n",
       "      <td>0</td>\n",
       "      <td>1</td>\n",
       "      <td>1</td>\n",
       "      <td>3</td>\n",
       "      <td>1</td>\n",
       "      <td>0</td>\n",
       "      <td>1</td>\n",
       "    </tr>\n",
       "    <tr>\n",
       "      <th>6</th>\n",
       "      <td>espn.go.com/nba/player/_/id/3457/brandon-rush</td>\n",
       "      <td>benign</td>\n",
       "      <td>45</td>\n",
       "      <td>2</td>\n",
       "      <td>1</td>\n",
       "      <td>0</td>\n",
       "      <td>0</td>\n",
       "      <td>1</td>\n",
       "      <td>0</td>\n",
       "      <td>0</td>\n",
       "      <td>0</td>\n",
       "      <td>4</td>\n",
       "      <td>0</td>\n",
       "      <td>6</td>\n",
       "      <td>2</td>\n",
       "      <td>0</td>\n",
       "      <td>1</td>\n",
       "    </tr>\n",
       "  </tbody>\n",
       "</table>\n",
       "</div>"
      ],
      "text/plain": [
       "                                                 url      type  UrlLength   \n",
       "0                                   br-icloud.com.br  phishing         16  \\\n",
       "1                mp3raid.com/music/krizz_kaliko.html    benign         35   \n",
       "2                    bopsecrets.org/rexroth/cr/1.htm    benign         31   \n",
       "5  http://buzzfil.net/m/show-art/ils-etaient-loin...    benign        118   \n",
       "6      espn.go.com/nba/player/_/id/3457/brandon-rush    benign         45   \n",
       "\n",
       "   NumDots  NumDash  NumAtSymbol  NumTildeSymbol  NumUnderscore  NumPercent   \n",
       "0        2        1            0               0              0           0  \\\n",
       "1        2        0            0               0              1           0   \n",
       "2        2        0            0               0              0           0   \n",
       "5        2       16            0               0              0           0   \n",
       "6        2        1            0               0              1           0   \n",
       "\n",
       "   NumAmpersand  NumHash  NumNumericChars  NoHttps  PathLevel   \n",
       "0             0        0                0        0          1  \\\n",
       "1             0        0                1        0          2   \n",
       "2             0        0                1        0          3   \n",
       "5             0        0                1        1          3   \n",
       "6             0        0                4        0          6   \n",
       "\n",
       "   SubdomainLevels  NumDashInHostname  NumQueryComponents  \n",
       "0                2                  1                   1  \n",
       "1                1                  0                   1  \n",
       "2                1                  0                   1  \n",
       "5                1                  0                   1  \n",
       "6                2                  0                   1  "
      ]
     },
     "execution_count": 7,
     "metadata": {},
     "output_type": "execute_result"
    }
   ],
   "source": [
    "df.head()"
   ]
  },
  {
   "cell_type": "code",
   "execution_count": 2,
   "metadata": {},
   "outputs": [],
   "source": [
    "#df.to_csv(\"data_preprocessed.csv\", index = False)\n",
    "df = pd.read_csv(\"data_preprocessed.csv\")\n"
   ]
  },
  {
   "cell_type": "markdown",
   "metadata": {},
   "source": [
    "# Building the models"
   ]
  },
  {
   "cell_type": "markdown",
   "metadata": {},
   "source": [
    "## Random Forest"
   ]
  },
  {
   "cell_type": "code",
   "execution_count": 3,
   "metadata": {},
   "outputs": [],
   "source": [
    "from sklearn.model_selection import train_test_split\n",
    "from sklearn.ensemble import RandomForestClassifier\n",
    "from sklearn.metrics import classification_report, accuracy_score\n",
    "from sklearn.metrics import confusion_matrix\n",
    "from sklearn.preprocessing import LabelEncoder\n",
    "from imblearn.over_sampling import SMOTE\n",
    "from sklearn.model_selection import GridSearchCV"
   ]
  },
  {
   "cell_type": "markdown",
   "metadata": {},
   "source": [
    "### Baseline RF Model"
   ]
  },
  {
   "cell_type": "code",
   "execution_count": 4,
   "metadata": {},
   "outputs": [],
   "source": [
    "X = df.drop(columns=[\"type\", \"url\"])\n",
    "y = df[\"type\"]\n",
    "\n",
    "label_encoder = LabelEncoder()\n",
    "y = label_encoder.fit_transform(y)\n",
    "\n",
    "X_train, X_test, y_train, y_test = train_test_split(X, y, test_size=0.2, random_state=42)\n",
    "\n",
    "clf_baseline = RandomForestClassifier(n_estimators=100, random_state=42)"
   ]
  },
  {
   "cell_type": "code",
   "execution_count": 5,
   "metadata": {},
   "outputs": [],
   "source": [
    "clf_baseline.fit(X_train, y_train)\n",
    "y_pred_baseline = clf_baseline.predict(X_test)"
   ]
  },
  {
   "cell_type": "code",
   "execution_count": 6,
   "metadata": {},
   "outputs": [
    {
     "name": "stdout",
     "output_type": "stream",
     "text": [
      "Accuracy: 0.8977719904636979\n",
      "Classification Report:\n",
      "               precision    recall  f1-score   support\n",
      "\n",
      "           0       0.92      0.96      0.94     85611\n",
      "           1       0.79      0.60      0.68     18832\n",
      "\n",
      "    accuracy                           0.90    104443\n",
      "   macro avg       0.85      0.78      0.81    104443\n",
      "weighted avg       0.89      0.90      0.89    104443\n",
      "\n"
     ]
    }
   ],
   "source": [
    "accuracy = accuracy_score(y_test, y_pred_baseline)\n",
    "classification_report_str = classification_report(y_test, y_pred_baseline)\n",
    "\n",
    "print(f\"Accuracy: {accuracy}\")\n",
    "print(\"Classification Report:\\n\", classification_report_str)"
   ]
  },
  {
   "cell_type": "code",
   "execution_count": 7,
   "metadata": {},
   "outputs": [
    {
     "data": {
      "text/plain": [
       "array([[82553,  3058],\n",
       "       [ 7619, 11213]], dtype=int64)"
      ]
     },
     "execution_count": 7,
     "metadata": {},
     "output_type": "execute_result"
    }
   ],
   "source": [
    "confusion_matrix(y_test, y_pred_baseline)"
   ]
  },
  {
   "cell_type": "markdown",
   "metadata": {},
   "source": [
    "### SMOTE Sampling RF Model"
   ]
  },
  {
   "cell_type": "code",
   "execution_count": 8,
   "metadata": {},
   "outputs": [],
   "source": [
    "smote = SMOTE(random_state=42)\n",
    "X_train_resampled, y_train_resampled = smote.fit_resample(X_train, y_train)\n",
    "\n",
    "clf_smote = RandomForestClassifier(n_estimators=100, random_state=42, class_weight='balanced')"
   ]
  },
  {
   "cell_type": "code",
   "execution_count": 9,
   "metadata": {},
   "outputs": [],
   "source": [
    "clf_smote.fit(X_train_resampled, y_train_resampled)\n",
    "y_pred_smote = clf_smote.predict(X_test)"
   ]
  },
  {
   "cell_type": "code",
   "execution_count": 10,
   "metadata": {},
   "outputs": [
    {
     "name": "stdout",
     "output_type": "stream",
     "text": [
      "Accuracy: 0.8388786227894641\n",
      "Classification Report:\n",
      "               precision    recall  f1-score   support\n",
      "\n",
      "           0       0.96      0.84      0.89     85611\n",
      "           1       0.53      0.86      0.66     18832\n",
      "\n",
      "    accuracy                           0.84    104443\n",
      "   macro avg       0.75      0.85      0.78    104443\n",
      "weighted avg       0.89      0.84      0.85    104443\n",
      "\n"
     ]
    }
   ],
   "source": [
    "accuracy = accuracy_score(y_test, y_pred_smote)\n",
    "classification_report_str = classification_report(y_test, y_pred_smote)\n",
    "\n",
    "print(f\"Accuracy: {accuracy}\")\n",
    "print(\"Classification Report:\\n\", classification_report_str)"
   ]
  },
  {
   "cell_type": "code",
   "execution_count": 11,
   "metadata": {},
   "outputs": [
    {
     "data": {
      "text/plain": [
       "array([[71501, 14110],\n",
       "       [ 2718, 16114]], dtype=int64)"
      ]
     },
     "execution_count": 11,
     "metadata": {},
     "output_type": "execute_result"
    }
   ],
   "source": [
    "confusion_matrix(y_test, y_pred_smote)"
   ]
  },
  {
   "cell_type": "markdown",
   "metadata": {},
   "source": [
    "### Hyperparameter-Tuned RF Model"
   ]
  },
  {
   "cell_type": "code",
   "execution_count": 14,
   "metadata": {},
   "outputs": [],
   "source": [
    "param_grid = {\n",
    "    'n_estimators': [100],\n",
    "    'max_depth': [10, 20, 30, None],\n",
    "    'min_samples_split': [2, 5, 10],\n",
    "    'min_samples_leaf': [1, 2, 4],\n",
    "    'max_features': ['auto', 'sqrt', 'log2']\n",
    "}\n",
    "scoring = 'accuracy'"
   ]
  },
  {
   "cell_type": "code",
   "execution_count": 13,
   "metadata": {},
   "outputs": [
    {
     "ename": "KeyboardInterrupt",
     "evalue": "",
     "output_type": "error",
     "traceback": [
      "\u001b[1;31m---------------------------------------------------------------------------\u001b[0m",
      "\u001b[1;31mKeyboardInterrupt\u001b[0m                         Traceback (most recent call last)",
      "\u001b[1;32mc:\\CBS\\3rd\\Cybersecurity\\FINAL\\code1.ipynb Cell 26\u001b[0m line \u001b[0;36m7\n\u001b[0;32m      <a href='vscode-notebook-cell:/c%3A/CBS/3rd/Cybersecurity/FINAL/code1.ipynb#X51sZmlsZQ%3D%3D?line=0'>1</a>\u001b[0m grid_search \u001b[39m=\u001b[39m GridSearchCV(estimator\u001b[39m=\u001b[39mRandomForestClassifier(random_state\u001b[39m=\u001b[39m\u001b[39m42\u001b[39m),\n\u001b[0;32m      <a href='vscode-notebook-cell:/c%3A/CBS/3rd/Cybersecurity/FINAL/code1.ipynb#X51sZmlsZQ%3D%3D?line=1'>2</a>\u001b[0m                            param_grid\u001b[39m=\u001b[39mparam_grid,\n\u001b[0;32m      <a href='vscode-notebook-cell:/c%3A/CBS/3rd/Cybersecurity/FINAL/code1.ipynb#X51sZmlsZQ%3D%3D?line=2'>3</a>\u001b[0m                            scoring\u001b[39m=\u001b[39mscoring,\n\u001b[0;32m      <a href='vscode-notebook-cell:/c%3A/CBS/3rd/Cybersecurity/FINAL/code1.ipynb#X51sZmlsZQ%3D%3D?line=3'>4</a>\u001b[0m                            cv\u001b[39m=\u001b[39m\u001b[39m5\u001b[39m,\n\u001b[0;32m      <a href='vscode-notebook-cell:/c%3A/CBS/3rd/Cybersecurity/FINAL/code1.ipynb#X51sZmlsZQ%3D%3D?line=4'>5</a>\u001b[0m                            n_jobs\u001b[39m=\u001b[39m\u001b[39m-\u001b[39m\u001b[39m1\u001b[39m)\n\u001b[1;32m----> <a href='vscode-notebook-cell:/c%3A/CBS/3rd/Cybersecurity/FINAL/code1.ipynb#X51sZmlsZQ%3D%3D?line=6'>7</a>\u001b[0m grid_search\u001b[39m.\u001b[39;49mfit(X_train, y_train)\n",
      "File \u001b[1;32m~\\AppData\\Local\\Packages\\PythonSoftwareFoundation.Python.3.11_qbz5n2kfra8p0\\LocalCache\\local-packages\\Python311\\site-packages\\sklearn\\model_selection\\_search.py:874\u001b[0m, in \u001b[0;36mBaseSearchCV.fit\u001b[1;34m(self, X, y, groups, **fit_params)\u001b[0m\n\u001b[0;32m    868\u001b[0m     results \u001b[39m=\u001b[39m \u001b[39mself\u001b[39m\u001b[39m.\u001b[39m_format_results(\n\u001b[0;32m    869\u001b[0m         all_candidate_params, n_splits, all_out, all_more_results\n\u001b[0;32m    870\u001b[0m     )\n\u001b[0;32m    872\u001b[0m     \u001b[39mreturn\u001b[39;00m results\n\u001b[1;32m--> 874\u001b[0m \u001b[39mself\u001b[39;49m\u001b[39m.\u001b[39;49m_run_search(evaluate_candidates)\n\u001b[0;32m    876\u001b[0m \u001b[39m# multimetric is determined here because in the case of a callable\u001b[39;00m\n\u001b[0;32m    877\u001b[0m \u001b[39m# self.scoring the return type is only known after calling\u001b[39;00m\n\u001b[0;32m    878\u001b[0m first_test_score \u001b[39m=\u001b[39m all_out[\u001b[39m0\u001b[39m][\u001b[39m\"\u001b[39m\u001b[39mtest_scores\u001b[39m\u001b[39m\"\u001b[39m]\n",
      "File \u001b[1;32m~\\AppData\\Local\\Packages\\PythonSoftwareFoundation.Python.3.11_qbz5n2kfra8p0\\LocalCache\\local-packages\\Python311\\site-packages\\sklearn\\model_selection\\_search.py:1388\u001b[0m, in \u001b[0;36mGridSearchCV._run_search\u001b[1;34m(self, evaluate_candidates)\u001b[0m\n\u001b[0;32m   1386\u001b[0m \u001b[39mdef\u001b[39;00m \u001b[39m_run_search\u001b[39m(\u001b[39mself\u001b[39m, evaluate_candidates):\n\u001b[0;32m   1387\u001b[0m \u001b[39m    \u001b[39m\u001b[39m\"\"\"Search all candidates in param_grid\"\"\"\u001b[39;00m\n\u001b[1;32m-> 1388\u001b[0m     evaluate_candidates(ParameterGrid(\u001b[39mself\u001b[39;49m\u001b[39m.\u001b[39;49mparam_grid))\n",
      "File \u001b[1;32m~\\AppData\\Local\\Packages\\PythonSoftwareFoundation.Python.3.11_qbz5n2kfra8p0\\LocalCache\\local-packages\\Python311\\site-packages\\sklearn\\model_selection\\_search.py:821\u001b[0m, in \u001b[0;36mBaseSearchCV.fit.<locals>.evaluate_candidates\u001b[1;34m(candidate_params, cv, more_results)\u001b[0m\n\u001b[0;32m    813\u001b[0m \u001b[39mif\u001b[39;00m \u001b[39mself\u001b[39m\u001b[39m.\u001b[39mverbose \u001b[39m>\u001b[39m \u001b[39m0\u001b[39m:\n\u001b[0;32m    814\u001b[0m     \u001b[39mprint\u001b[39m(\n\u001b[0;32m    815\u001b[0m         \u001b[39m\"\u001b[39m\u001b[39mFitting \u001b[39m\u001b[39m{0}\u001b[39;00m\u001b[39m folds for each of \u001b[39m\u001b[39m{1}\u001b[39;00m\u001b[39m candidates,\u001b[39m\u001b[39m\"\u001b[39m\n\u001b[0;32m    816\u001b[0m         \u001b[39m\"\u001b[39m\u001b[39m totalling \u001b[39m\u001b[39m{2}\u001b[39;00m\u001b[39m fits\u001b[39m\u001b[39m\"\u001b[39m\u001b[39m.\u001b[39mformat(\n\u001b[0;32m    817\u001b[0m             n_splits, n_candidates, n_candidates \u001b[39m*\u001b[39m n_splits\n\u001b[0;32m    818\u001b[0m         )\n\u001b[0;32m    819\u001b[0m     )\n\u001b[1;32m--> 821\u001b[0m out \u001b[39m=\u001b[39m parallel(\n\u001b[0;32m    822\u001b[0m     delayed(_fit_and_score)(\n\u001b[0;32m    823\u001b[0m         clone(base_estimator),\n\u001b[0;32m    824\u001b[0m         X,\n\u001b[0;32m    825\u001b[0m         y,\n\u001b[0;32m    826\u001b[0m         train\u001b[39m=\u001b[39;49mtrain,\n\u001b[0;32m    827\u001b[0m         test\u001b[39m=\u001b[39;49mtest,\n\u001b[0;32m    828\u001b[0m         parameters\u001b[39m=\u001b[39;49mparameters,\n\u001b[0;32m    829\u001b[0m         split_progress\u001b[39m=\u001b[39;49m(split_idx, n_splits),\n\u001b[0;32m    830\u001b[0m         candidate_progress\u001b[39m=\u001b[39;49m(cand_idx, n_candidates),\n\u001b[0;32m    831\u001b[0m         \u001b[39m*\u001b[39;49m\u001b[39m*\u001b[39;49mfit_and_score_kwargs,\n\u001b[0;32m    832\u001b[0m     )\n\u001b[0;32m    833\u001b[0m     \u001b[39mfor\u001b[39;49;00m (cand_idx, parameters), (split_idx, (train, test)) \u001b[39min\u001b[39;49;00m product(\n\u001b[0;32m    834\u001b[0m         \u001b[39menumerate\u001b[39;49m(candidate_params), \u001b[39menumerate\u001b[39;49m(cv\u001b[39m.\u001b[39;49msplit(X, y, groups))\n\u001b[0;32m    835\u001b[0m     )\n\u001b[0;32m    836\u001b[0m )\n\u001b[0;32m    838\u001b[0m \u001b[39mif\u001b[39;00m \u001b[39mlen\u001b[39m(out) \u001b[39m<\u001b[39m \u001b[39m1\u001b[39m:\n\u001b[0;32m    839\u001b[0m     \u001b[39mraise\u001b[39;00m \u001b[39mValueError\u001b[39;00m(\n\u001b[0;32m    840\u001b[0m         \u001b[39m\"\u001b[39m\u001b[39mNo fits were performed. \u001b[39m\u001b[39m\"\u001b[39m\n\u001b[0;32m    841\u001b[0m         \u001b[39m\"\u001b[39m\u001b[39mWas the CV iterator empty? \u001b[39m\u001b[39m\"\u001b[39m\n\u001b[0;32m    842\u001b[0m         \u001b[39m\"\u001b[39m\u001b[39mWere there no candidates?\u001b[39m\u001b[39m\"\u001b[39m\n\u001b[0;32m    843\u001b[0m     )\n",
      "File \u001b[1;32m~\\AppData\\Local\\Packages\\PythonSoftwareFoundation.Python.3.11_qbz5n2kfra8p0\\LocalCache\\local-packages\\Python311\\site-packages\\sklearn\\utils\\parallel.py:63\u001b[0m, in \u001b[0;36mParallel.__call__\u001b[1;34m(self, iterable)\u001b[0m\n\u001b[0;32m     58\u001b[0m config \u001b[39m=\u001b[39m get_config()\n\u001b[0;32m     59\u001b[0m iterable_with_config \u001b[39m=\u001b[39m (\n\u001b[0;32m     60\u001b[0m     (_with_config(delayed_func, config), args, kwargs)\n\u001b[0;32m     61\u001b[0m     \u001b[39mfor\u001b[39;00m delayed_func, args, kwargs \u001b[39min\u001b[39;00m iterable\n\u001b[0;32m     62\u001b[0m )\n\u001b[1;32m---> 63\u001b[0m \u001b[39mreturn\u001b[39;00m \u001b[39msuper\u001b[39;49m()\u001b[39m.\u001b[39;49m\u001b[39m__call__\u001b[39;49m(iterable_with_config)\n",
      "File \u001b[1;32m~\\AppData\\Local\\Packages\\PythonSoftwareFoundation.Python.3.11_qbz5n2kfra8p0\\LocalCache\\local-packages\\Python311\\site-packages\\joblib\\parallel.py:1098\u001b[0m, in \u001b[0;36mParallel.__call__\u001b[1;34m(self, iterable)\u001b[0m\n\u001b[0;32m   1095\u001b[0m     \u001b[39mself\u001b[39m\u001b[39m.\u001b[39m_iterating \u001b[39m=\u001b[39m \u001b[39mFalse\u001b[39;00m\n\u001b[0;32m   1097\u001b[0m \u001b[39mwith\u001b[39;00m \u001b[39mself\u001b[39m\u001b[39m.\u001b[39m_backend\u001b[39m.\u001b[39mretrieval_context():\n\u001b[1;32m-> 1098\u001b[0m     \u001b[39mself\u001b[39;49m\u001b[39m.\u001b[39;49mretrieve()\n\u001b[0;32m   1099\u001b[0m \u001b[39m# Make sure that we get a last message telling us we are done\u001b[39;00m\n\u001b[0;32m   1100\u001b[0m elapsed_time \u001b[39m=\u001b[39m time\u001b[39m.\u001b[39mtime() \u001b[39m-\u001b[39m \u001b[39mself\u001b[39m\u001b[39m.\u001b[39m_start_time\n",
      "File \u001b[1;32m~\\AppData\\Local\\Packages\\PythonSoftwareFoundation.Python.3.11_qbz5n2kfra8p0\\LocalCache\\local-packages\\Python311\\site-packages\\joblib\\parallel.py:975\u001b[0m, in \u001b[0;36mParallel.retrieve\u001b[1;34m(self)\u001b[0m\n\u001b[0;32m    973\u001b[0m \u001b[39mtry\u001b[39;00m:\n\u001b[0;32m    974\u001b[0m     \u001b[39mif\u001b[39;00m \u001b[39mgetattr\u001b[39m(\u001b[39mself\u001b[39m\u001b[39m.\u001b[39m_backend, \u001b[39m'\u001b[39m\u001b[39msupports_timeout\u001b[39m\u001b[39m'\u001b[39m, \u001b[39mFalse\u001b[39;00m):\n\u001b[1;32m--> 975\u001b[0m         \u001b[39mself\u001b[39m\u001b[39m.\u001b[39m_output\u001b[39m.\u001b[39mextend(job\u001b[39m.\u001b[39;49mget(timeout\u001b[39m=\u001b[39;49m\u001b[39mself\u001b[39;49m\u001b[39m.\u001b[39;49mtimeout))\n\u001b[0;32m    976\u001b[0m     \u001b[39melse\u001b[39;00m:\n\u001b[0;32m    977\u001b[0m         \u001b[39mself\u001b[39m\u001b[39m.\u001b[39m_output\u001b[39m.\u001b[39mextend(job\u001b[39m.\u001b[39mget())\n",
      "File \u001b[1;32m~\\AppData\\Local\\Packages\\PythonSoftwareFoundation.Python.3.11_qbz5n2kfra8p0\\LocalCache\\local-packages\\Python311\\site-packages\\joblib\\_parallel_backends.py:567\u001b[0m, in \u001b[0;36mLokyBackend.wrap_future_result\u001b[1;34m(future, timeout)\u001b[0m\n\u001b[0;32m    564\u001b[0m \u001b[39m\u001b[39m\u001b[39m\"\"\"Wrapper for Future.result to implement the same behaviour as\u001b[39;00m\n\u001b[0;32m    565\u001b[0m \u001b[39mAsyncResults.get from multiprocessing.\"\"\"\u001b[39;00m\n\u001b[0;32m    566\u001b[0m \u001b[39mtry\u001b[39;00m:\n\u001b[1;32m--> 567\u001b[0m     \u001b[39mreturn\u001b[39;00m future\u001b[39m.\u001b[39;49mresult(timeout\u001b[39m=\u001b[39;49mtimeout)\n\u001b[0;32m    568\u001b[0m \u001b[39mexcept\u001b[39;00m CfTimeoutError \u001b[39mas\u001b[39;00m e:\n\u001b[0;32m    569\u001b[0m     \u001b[39mraise\u001b[39;00m \u001b[39mTimeoutError\u001b[39;00m \u001b[39mfrom\u001b[39;00m \u001b[39me\u001b[39;00m\n",
      "File \u001b[1;32mC:\\Program Files\\WindowsApps\\PythonSoftwareFoundation.Python.3.11_3.11.1776.0_x64__qbz5n2kfra8p0\\Lib\\concurrent\\futures\\_base.py:451\u001b[0m, in \u001b[0;36mFuture.result\u001b[1;34m(self, timeout)\u001b[0m\n\u001b[0;32m    448\u001b[0m \u001b[39melif\u001b[39;00m \u001b[39mself\u001b[39m\u001b[39m.\u001b[39m_state \u001b[39m==\u001b[39m FINISHED:\n\u001b[0;32m    449\u001b[0m     \u001b[39mreturn\u001b[39;00m \u001b[39mself\u001b[39m\u001b[39m.\u001b[39m__get_result()\n\u001b[1;32m--> 451\u001b[0m \u001b[39mself\u001b[39;49m\u001b[39m.\u001b[39;49m_condition\u001b[39m.\u001b[39;49mwait(timeout)\n\u001b[0;32m    453\u001b[0m \u001b[39mif\u001b[39;00m \u001b[39mself\u001b[39m\u001b[39m.\u001b[39m_state \u001b[39min\u001b[39;00m [CANCELLED, CANCELLED_AND_NOTIFIED]:\n\u001b[0;32m    454\u001b[0m     \u001b[39mraise\u001b[39;00m CancelledError()\n",
      "File \u001b[1;32mC:\\Program Files\\WindowsApps\\PythonSoftwareFoundation.Python.3.11_3.11.1776.0_x64__qbz5n2kfra8p0\\Lib\\threading.py:327\u001b[0m, in \u001b[0;36mCondition.wait\u001b[1;34m(self, timeout)\u001b[0m\n\u001b[0;32m    325\u001b[0m \u001b[39mtry\u001b[39;00m:    \u001b[39m# restore state no matter what (e.g., KeyboardInterrupt)\u001b[39;00m\n\u001b[0;32m    326\u001b[0m     \u001b[39mif\u001b[39;00m timeout \u001b[39mis\u001b[39;00m \u001b[39mNone\u001b[39;00m:\n\u001b[1;32m--> 327\u001b[0m         waiter\u001b[39m.\u001b[39;49macquire()\n\u001b[0;32m    328\u001b[0m         gotit \u001b[39m=\u001b[39m \u001b[39mTrue\u001b[39;00m\n\u001b[0;32m    329\u001b[0m     \u001b[39melse\u001b[39;00m:\n",
      "\u001b[1;31mKeyboardInterrupt\u001b[0m: "
     ]
    }
   ],
   "source": [
    "#Takes long to run, will run on final code\n",
    "#grid_search = GridSearchCV(estimator=RandomForestClassifier(random_state=42),\n",
    "#                           param_grid=param_grid,\n",
    "#                           scoring=scoring,\n",
    "#                           cv=5,\n",
    "#                           n_jobs=-1)\n",
    "\n",
    "#grid_search.fit(X_train, y_train)\n"
   ]
  },
  {
   "cell_type": "code",
   "execution_count": null,
   "metadata": {},
   "outputs": [],
   "source": [
    "#best_model = grid_search.best_estimator_\n",
    "#best_params = grid_search.best_params_\n",
    "\n",
    "#y_val_pred = best_model.predict(X_test)\n",
    "#validation_accuracy = accuracy_score(y_test, y_val_pred)"
   ]
  },
  {
   "cell_type": "code",
   "execution_count": 15,
   "metadata": {},
   "outputs": [],
   "source": [
    "from sklearn.model_selection import RandomizedSearchCV\n",
    "\n",
    "randomized_search = RandomizedSearchCV(\n",
    "    estimator=RandomForestClassifier(random_state=42),\n",
    "    param_distributions=param_grid,\n",
    "    n_iter=5,\n",
    "    scoring=scoring,\n",
    "    cv=5,\n",
    "    n_jobs=-1\n",
    ")\n",
    "\n",
    "randomized_search.fit(X_train, y_train)\n",
    "\n",
    "best_model = randomized_search.best_estimator_\n",
    "best_params = randomized_search.best_params_\n",
    "\n",
    "y_pred_best = best_model.predict(X_test)\n",
    "validation_accuracy = accuracy_score(y_test, y_pred_best)"
   ]
  },
  {
   "cell_type": "code",
   "execution_count": 17,
   "metadata": {},
   "outputs": [
    {
     "name": "stdout",
     "output_type": "stream",
     "text": [
      "0.8990166885286711\n"
     ]
    },
    {
     "data": {
      "text/plain": [
       "array([[83004,  2607],\n",
       "       [ 7940, 10892]], dtype=int64)"
      ]
     },
     "execution_count": 17,
     "metadata": {},
     "output_type": "execute_result"
    }
   ],
   "source": [
    "print(validation_accuracy)\n",
    "confusion_matrix(y_test, y_pred_best)"
   ]
  },
  {
   "cell_type": "markdown",
   "metadata": {},
   "source": [
    "## Neural Network"
   ]
  },
  {
   "cell_type": "markdown",
   "metadata": {},
   "source": [
    "### Baseline NN model"
   ]
  },
  {
   "cell_type": "code",
   "execution_count": 18,
   "metadata": {},
   "outputs": [],
   "source": [
    "from sklearn.preprocessing import StandardScaler\n",
    "from sklearn.utils import shuffle\n",
    "from tensorflow import keras\n",
    "from tensorflow.keras import layers"
   ]
  },
  {
   "cell_type": "code",
   "execution_count": 19,
   "metadata": {},
   "outputs": [],
   "source": [
    "X_train, X_test, y_train, y_test = train_test_split(X, y, test_size=0.2, random_state=42)\n",
    "\n",
    "scaler = StandardScaler()\n",
    "X_train = scaler.fit_transform(X_train)\n",
    "X_test = scaler.transform(X_test)\n",
    "\n",
    "model = keras.Sequential([\n",
    "    layers.Input(shape=(X_train.shape[1],)),\n",
    "    layers.Dense(128, activation='relu'),\n",
    "    layers.Dense(64, activation='relu'),\n",
    "    layers.Dense(1, activation='sigmoid')\n",
    "])\n",
    "\n",
    "model.compile(optimizer='adam', loss='binary_crossentropy', metrics=['accuracy'])"
   ]
  },
  {
   "cell_type": "code",
   "execution_count": 17,
   "metadata": {},
   "outputs": [
    {
     "name": "stdout",
     "output_type": "stream",
     "text": [
      "Epoch 1/10\n",
      "10445/10445 [==============================] - 10s 926us/step - loss: 0.2818 - accuracy: 0.8752 - val_loss: 0.2652 - val_accuracy: 0.8833\n",
      "Epoch 2/10\n",
      "10445/10445 [==============================] - 10s 915us/step - loss: 0.2626 - accuracy: 0.8852 - val_loss: 0.2559 - val_accuracy: 0.8886\n",
      "Epoch 3/10\n",
      "10445/10445 [==============================] - 9s 908us/step - loss: 0.2568 - accuracy: 0.8880 - val_loss: 0.2615 - val_accuracy: 0.8854\n",
      "Epoch 4/10\n",
      "10445/10445 [==============================] - 9s 899us/step - loss: 0.2538 - accuracy: 0.8894 - val_loss: 0.2530 - val_accuracy: 0.8893\n",
      "Epoch 5/10\n",
      "10445/10445 [==============================] - 9s 896us/step - loss: 0.2513 - accuracy: 0.8902 - val_loss: 0.2496 - val_accuracy: 0.8908\n",
      "Epoch 6/10\n",
      "10445/10445 [==============================] - 9s 893us/step - loss: 0.2494 - accuracy: 0.8917 - val_loss: 0.2508 - val_accuracy: 0.8895\n",
      "Epoch 7/10\n",
      "10445/10445 [==============================] - 9s 904us/step - loss: 0.2482 - accuracy: 0.8918 - val_loss: 0.2486 - val_accuracy: 0.8920\n",
      "Epoch 8/10\n",
      "10445/10445 [==============================] - 10s 915us/step - loss: 0.2472 - accuracy: 0.8927 - val_loss: 0.2506 - val_accuracy: 0.8905\n",
      "Epoch 9/10\n",
      "10445/10445 [==============================] - 10s 974us/step - loss: 0.2459 - accuracy: 0.8925 - val_loss: 0.2485 - val_accuracy: 0.8925\n",
      "Epoch 10/10\n",
      "10445/10445 [==============================] - 10s 960us/step - loss: 0.2448 - accuracy: 0.8934 - val_loss: 0.2468 - val_accuracy: 0.8928\n"
     ]
    },
    {
     "data": {
      "text/plain": [
       "<keras.callbacks.History at 0x2964c176590>"
      ]
     },
     "execution_count": 17,
     "metadata": {},
     "output_type": "execute_result"
    }
   ],
   "source": [
    "model.fit(X_train, y_train, epochs=10, batch_size=32, validation_split=0.2)"
   ]
  },
  {
   "cell_type": "code",
   "execution_count": 19,
   "metadata": {},
   "outputs": [
    {
     "name": "stdout",
     "output_type": "stream",
     "text": [
      "3264/3264 [==============================] - 2s 608us/step - loss: 0.2460 - accuracy: 0.8927\n",
      "Test Accuracy: 0.892745316028595\n"
     ]
    }
   ],
   "source": [
    "test_loss, test_accuracy = model.evaluate(X_test, y_test)\n",
    "print(f\"Test Accuracy: {test_accuracy}\")"
   ]
  },
  {
   "cell_type": "code",
   "execution_count": 20,
   "metadata": {},
   "outputs": [
    {
     "name": "stdout",
     "output_type": "stream",
     "text": [
      "3264/3264 [==============================] - 2s 544us/step\n"
     ]
    },
    {
     "data": {
      "text/plain": [
       "array([[82761,  2850],\n",
       "       [ 8352, 10480]], dtype=int64)"
      ]
     },
     "execution_count": 20,
     "metadata": {},
     "output_type": "execute_result"
    }
   ],
   "source": [
    "y_nn_pred = (model.predict(X_test) > 0.5).astype(int)\n",
    "confusion_matrix(y_test, y_nn_pred)"
   ]
  },
  {
   "cell_type": "markdown",
   "metadata": {},
   "source": [
    "### SMOTE NN Model"
   ]
  },
  {
   "cell_type": "code",
   "execution_count": 20,
   "metadata": {},
   "outputs": [
    {
     "name": "stdout",
     "output_type": "stream",
     "text": [
      "Epoch 1/10\n",
      "17125/17125 [==============================] - 16s 888us/step - loss: 0.3630 - accuracy: 0.8298 - val_loss: 0.5318 - val_accuracy: 0.7311\n",
      "Epoch 2/10\n",
      "17125/17125 [==============================] - 16s 914us/step - loss: 0.3409 - accuracy: 0.8402 - val_loss: 0.4888 - val_accuracy: 0.7617\n",
      "Epoch 3/10\n",
      "17125/17125 [==============================] - 16s 916us/step - loss: 0.3334 - accuracy: 0.8433 - val_loss: 0.5028 - val_accuracy: 0.7503\n",
      "Epoch 4/10\n",
      "17125/17125 [==============================] - 16s 944us/step - loss: 0.3288 - accuracy: 0.8454 - val_loss: 0.4104 - val_accuracy: 0.8189\n",
      "Epoch 5/10\n",
      "17125/17125 [==============================] - 16s 905us/step - loss: 0.3256 - accuracy: 0.8470 - val_loss: 0.3972 - val_accuracy: 0.8165\n",
      "Epoch 6/10\n",
      "17125/17125 [==============================] - 16s 911us/step - loss: 0.3232 - accuracy: 0.8478 - val_loss: 0.4651 - val_accuracy: 0.7847\n",
      "Epoch 7/10\n",
      "17125/17125 [==============================] - 17s 968us/step - loss: 0.3210 - accuracy: 0.8486 - val_loss: 0.4106 - val_accuracy: 0.8109\n",
      "Epoch 8/10\n",
      "17125/17125 [==============================] - 16s 907us/step - loss: 0.3195 - accuracy: 0.8494 - val_loss: 0.4276 - val_accuracy: 0.8052\n",
      "Epoch 9/10\n",
      "17125/17125 [==============================] - 16s 917us/step - loss: 0.3181 - accuracy: 0.8502 - val_loss: 0.4379 - val_accuracy: 0.7805\n",
      "Epoch 10/10\n",
      "17125/17125 [==============================] - 15s 896us/step - loss: 0.3167 - accuracy: 0.8506 - val_loss: 0.3829 - val_accuracy: 0.8395\n",
      "3264/3264 [==============================] - 2s 607us/step - loss: 0.3009 - accuracy: 0.8522\n",
      "Test Accuracy (SMOTE Model): 0.8522256016731262\n"
     ]
    }
   ],
   "source": [
    "smote = SMOTE(random_state=42)\n",
    "X_train_smote, y_train_smote = smote.fit_resample(X_train, y_train)\n",
    "\n",
    "# Create a neural network model\n",
    "model_smote = keras.Sequential([\n",
    "    layers.Input(shape=(X_train.shape[1],)),\n",
    "    layers.Dense(128, activation='relu'),\n",
    "    layers.Dense(64, activation='relu'),\n",
    "    layers.Dense(1, activation='sigmoid')\n",
    "])\n",
    "\n",
    "model_smote.compile(optimizer='adam', loss='binary_crossentropy', metrics=['accuracy'])\n",
    "\n",
    "model_smote.fit(X_train_smote, y_train_smote, epochs=10, batch_size=32, validation_split=0.2)\n",
    "\n",
    "test_loss_smote, test_accuracy_smote = model_smote.evaluate(X_test, y_test)\n",
    "print(f\"Test Accuracy (SMOTE Model): {test_accuracy_smote}\")"
   ]
  }
 ],
 "metadata": {
  "kernelspec": {
   "display_name": "Python 3",
   "language": "python",
   "name": "python3"
  },
  "language_info": {
   "codemirror_mode": {
    "name": "ipython",
    "version": 3
   },
   "file_extension": ".py",
   "mimetype": "text/x-python",
   "name": "python",
   "nbconvert_exporter": "python",
   "pygments_lexer": "ipython3",
   "version": "3.11.6"
  }
 },
 "nbformat": 4,
 "nbformat_minor": 2
}
